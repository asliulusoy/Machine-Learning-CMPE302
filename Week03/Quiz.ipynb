{
  "cells": [
    {
      "cell_type": "markdown",
      "metadata": {
        "id": "HQJA-uoqmAiF"
      },
      "source": [
        "## QUIZ 1\n",
        "\n",
        "Orthogonality and Vectors"
      ]
    },
    {
      "cell_type": "code",
      "execution_count": null,
      "metadata": {
        "id": "nwZ2FYgflMCy"
      },
      "outputs": [],
      "source": [
        "import numpy as np\n",
        "import matplotlib.pyplot as plt\n"
      ]
    },
    {
      "cell_type": "code",
      "execution_count": null,
      "metadata": {
        "id": "MxzXtmuSlQRl"
      },
      "outputs": [],
      "source": [
        "vector1 = np.array([3, -2])\n",
        "vector2 = np.array([2, 3])\n"
      ]
    },
    {
      "cell_type": "code",
      "execution_count": null,
      "metadata": {
        "colab": {
          "base_uri": "https://localhost:8080/"
        },
        "id": "2oz5g-U9mid9",
        "outputId": "62a30cd7-2926-4150-fce1-7ce766799c8a"
      },
      "outputs": [
        {
          "name": "stdout",
          "output_type": "stream",
          "text": [
            "8\n",
            "14\n"
          ]
        }
      ],
      "source": [
        "vector3 = np.array([4, 2])\n",
        "#its checking whether is equal to zero or not\n",
        "dot_product31 = np.dot(vector3.flatten(), vector1.flatten())  #8 != 0 so its not ortho.\n",
        "dot_product32 = np.dot(vector3.flatten(), vector2.flatten())  #14 != 0 so its not ortho.\n",
        "print(dot_product31)\n",
        "print(dot_product32)"
      ]
    },
    {
      "cell_type": "code",
      "execution_count": null,
      "metadata": {
        "colab": {
          "base_uri": "https://localhost:8080/"
        },
        "id": "T9xM6jcemlIE",
        "outputId": "2c4ab132-3fe6-481d-c04d-78b95c4283e6"
      },
      "outputs": [
        {
          "name": "stdout",
          "output_type": "stream",
          "text": [
            "0\n"
          ]
        }
      ],
      "source": [
        "#its checking whether is equal to zero or not\n",
        "dot_product12 = np.dot(vector1.flatten(), vector2.flatten()) #0 = 0 so its ortho. (1&2)\n",
        "print(dot_product12)\n"
      ]
    },
    {
      "cell_type": "code",
      "execution_count": null,
      "metadata": {
        "colab": {
          "base_uri": "https://localhost:8080/",
          "height": 374
        },
        "id": "qAxiqTd1llN1",
        "outputId": "5d628df9-9f79-4eb4-a322-f989db79b207"
      },
      "outputs": [
        {
          "data": {
            "image/png": "[encoded data removed]",
            "text/plain": [
              "<Figure size 400x400 with 1 Axes>"
            ]
          },
          "metadata": {},
          "output_type": "display_data"
        }
      ],
      "source": [
        "##figure operations\n",
        "plt.figure(figsize=(4, 4))\n",
        "\n",
        "plt.xlim([-5, 10])\n",
        "plt.ylim([-5, 10])\n",
        "\n",
        "plt.text(vector1[0], vector1[1], \"v1\")\n",
        "plt.text(vector2[0], vector2[1], \"v2\")\n",
        "plt.text(vector3[0], vector3[1], \"v3\")\n",
        "\n",
        "plt.quiver(\n",
        "    0,\n",
        "    0,\n",
        "    vector1[0],\n",
        "    vector1[1],\n",
        "    angles=\"xy\",\n",
        "    scale_units=\"xy\",\n",
        "    scale=1,\n",
        "    color=\"red\",\n",
        "    label=\"v1\",\n",
        ")\n",
        "plt.quiver(\n",
        "    0,\n",
        "    0,\n",
        "    vector2[0],\n",
        "    vector2[1],\n",
        "    angles=\"xy\",\n",
        "    scale_units=\"xy\",\n",
        "    scale=1,\n",
        "    color=\"blue\",\n",
        "    label=\"v2\",\n",
        ")\n",
        "plt.quiver(\n",
        "    0,\n",
        "    0,\n",
        "    vector3[0],\n",
        "    vector3[1],\n",
        "    angles=\"xy\",\n",
        "    scale_units=\"xy\",\n",
        "    scale=1,\n",
        "    color=\"orange\",\n",
        "    label=\"v3\",\n",
        ")\n",
        "\n",
        "plt.show()"
      ]
    }
  ],
  "metadata": {
    "colab": {
      "provenance": []
    },
    "kernelspec": {
      "display_name": "Python 3",
      "name": "python3"
    },
    "language_info": {
      "name": "python"
    }
  },
  "nbformat": 4,
  "nbformat_minor": 0
}
