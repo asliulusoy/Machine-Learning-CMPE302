{
 "cells": [
  {
   "cell_type": "markdown",
   "metadata": {},
   "source": [
    "## Perceptron Algorithm"
   ]
  },
  {
   "cell_type": "code",
   "execution_count": 2,
   "metadata": {},
   "outputs": [],
   "source": [
    "def perceptron(x_input, w_weights, threshold):\n",
    "   weighted_sum = 0\n",
    "   for i in range(len(x_input)):\n",
    "       weighted_sum += x_input[i] * w_weights[i]\n",
    "   if weighted_sum >= threshold:\n",
    "       return 1, weighted_sum\n",
    "   else:\n",
    "       return 0, weighted_sum"
   ]
  },
  {
   "cell_type": "code",
   "execution_count": 3,
   "metadata": {},
   "outputs": [],
   "source": [
    "x_input = [0.1, 0.5, 0.2]\n",
    "w_weights = [0.4, 0.3, 0.6]\n",
    "threshold = 0.5"
   ]
  },
  {
   "cell_type": "code",
   "execution_count": 4,
   "metadata": {},
   "outputs": [],
   "source": [
    "output, weighted_sum = perceptron(x_input, w_weights, threshold)"
   ]
  },
  {
   "cell_type": "code",
   "execution_count": 5,
   "metadata": {},
   "outputs": [
    {
     "name": "stdout",
     "output_type": "stream",
     "text": [
      "Input: [0.1, 0.5, 0.2]\n",
      "Weights: [0.4, 0.3, 0.6]\n",
      "Threshold: 0.5\n",
      "Weighted Sum: 0.31\n",
      "Output: 0\n"
     ]
    }
   ],
   "source": [
    "print(\"Input:\", x_input)\n",
    "print(\"Weights:\", w_weights)\n",
    "print(\"Threshold:\", threshold)\n",
    "print(\"Weighted Sum:\", weighted_sum)\n",
    "print(\"Output:\", output)"
   ]
  }
 ],
 "metadata": {
  "kernelspec": {
   "display_name": "Python 3",
   "language": "python",
   "name": "python3"
  },
  "language_info": {
   "codemirror_mode": {
    "name": "ipython",
    "version": 3
   },
   "file_extension": ".py",
   "mimetype": "text/x-python",
   "name": "python",
   "nbconvert_exporter": "python",
   "pygments_lexer": "ipython3",
   "version": "3.11.9"
  }
 },
 "nbformat": 4,
 "nbformat_minor": 2
}
