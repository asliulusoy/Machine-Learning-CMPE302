{
 "cells": [
  {
   "cell_type": "markdown",
   "metadata": {},
   "source": [
    "## Ridge and Lasso regression models on the California Housing dataset\n",
    "\n",
    "**Step 1:** Import the necessary libraries for working with Ridge and Lasso regression models on the California Housing dataset.\n",
    "\n",
    "**Step 2:**  Load the California Housing dataset and define the independent\n",
    "variables (X) and the target variable (y).\n",
    "\n",
    "**Step 3:**  Prepare the data by splitting it into training and testing sets.\n",
    "\n",
    "**Step 4:**  Train the Ridge regression model with the training data and evaluate its performance using the testing data.\n",
    "\n",
    "**Step 5:**  Train the Lasso regression model with the training data and evaluate its performance using the testing data.\n",
    "\n",
    "**Step 6:**  Consider important notes and best practices when working with\n",
    "Ridge and Lasso regression models.\n",
    "\n",
    "Notes:\n",
    "1. After importing the dataset, variables such as X train, X test, y train,\n",
    "and y test should be defined.\n",
    "2. Ridge and Lasso regression models should be defined w"
   ]
  },
  {
   "cell_type": "code",
   "execution_count": 1,
   "metadata": {},
   "outputs": [],
   "source": [
    "import numpy as np\n",
    "import pandas as pd\n",
    "from sklearn.datasets import fetch_california_housing\n",
    "from sklearn.model_selection import train_test_split\n",
    "from sklearn.linear_model import Ridge, Lasso\n",
    "from sklearn.metrics import mean_squared_error"
   ]
  },
  {
   "cell_type": "code",
   "execution_count": 2,
   "metadata": {},
   "outputs": [],
   "source": [
    "housing = fetch_california_housing()\n",
    "X = housing.data\n",
    "y = housing.target\n",
    "\n",
    "# Feature names\n",
    "features = housing.feature_names"
   ]
  },
  {
   "cell_type": "code",
   "execution_count": 3,
   "metadata": {},
   "outputs": [],
   "source": [
    "X_train, X_test, y_train, y_test = train_test_split(X, y, test_size=0.2, random_state=42)"
   ]
  },
  {
   "cell_type": "code",
   "execution_count": 5,
   "metadata": {},
   "outputs": [
    {
     "name": "stdout",
     "output_type": "stream",
     "text": [
      "Ridge Regression MSE: 0.5558034669932191\n"
     ]
    }
   ],
   "source": [
    "# RIDGE regression model\n",
    "ridge = Ridge(alpha=1.0) # strength of the regularization\n",
    "ridge.fit(X_train, y_train)\n",
    "\n",
    "# Predict on the test set\n",
    "y_pred_ridge = ridge.predict(X_test)\n",
    "\n",
    "# Calculate and print the MSE for Ridge regression\n",
    "mse_ridge = mean_squared_error(y_test, y_pred_ridge)\n",
    "print(f'Ridge Regression MSE: {mse_ridge}')\n"
   ]
  },
  {
   "cell_type": "code",
   "execution_count": 6,
   "metadata": {},
   "outputs": [
    {
     "name": "stdout",
     "output_type": "stream",
     "text": [
      "Lasso Regression MSE: 0.6135115198058131\n"
     ]
    }
   ],
   "source": [
    "# LASSO regression model\n",
    "lasso = Lasso(alpha=0.1)\n",
    "lasso.fit(X_train, y_train)\n",
    "\n",
    "# Predict on the test set\n",
    "y_pred_lasso = lasso.predict(X_test)\n",
    "\n",
    "# Calculate and print the MSE for Lasso regression\n",
    "mse_lasso = mean_squared_error(y_test, y_pred_lasso)\n",
    "print(f'Lasso Regression MSE: {mse_lasso}')"
   ]
  },
  {
   "cell_type": "markdown",
   "metadata": {},
   "source": [
    "The trade-offs between model complexity and interpretability:\n",
    "* Ridge tends to shrink coefficients evenly,\n",
    "* Lasso may zero out coefficients, making the model simpler and potentially easier to interpret."
   ]
  }
 ],
 "metadata": {
  "kernelspec": {
   "display_name": "Python 3",
   "language": "python",
   "name": "python3"
  },
  "language_info": {
   "codemirror_mode": {
    "name": "ipython",
    "version": 3
   },
   "file_extension": ".py",
   "mimetype": "text/x-python",
   "name": "python",
   "nbconvert_exporter": "python",
   "pygments_lexer": "ipython3",
   "version": "3.11.9"
  }
 },
 "nbformat": 4,
 "nbformat_minor": 2
}
