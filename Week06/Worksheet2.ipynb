{
 "cells": [
  {
   "cell_type": "markdown",
   "metadata": {},
   "source": [
    "## Question: Implement the Perceptron Algorithm in Python\n",
    "\n",
    "Write a Python function named perceptron that implements the Perceptron Algorithm. The function should take two arguments: x input, a list representing the input features,\n",
    "and w weights, a list representing the initial weights. Additionally, the function should take a parameter threshold to determine the threshold value for\n",
    "the step function\n",
    "\n",
    "The Perceptron Algorithm iterates through each input feature and updates\n",
    "the weights based on the error. The step function determines the output of the\n",
    "Perceptron based on the weighted sum of the input features and the threshold.\n",
    "\n",
    "After implementing the perceptron function, test it with the following inputs:\n",
    "\n",
    "* x_input = [0.1, 0.5, 0.2]\n",
    "\n",
    "* w_weights = [0.4, 0.3, 0.6]\n",
    "\n",
    "* threshold = 0.5\n",
    "\n",
    "Expected Output:\n",
    "* Weighted Sum: 0.31\n",
    "\n",
    "* Output: 0\n"
   ]
  },
  {
   "cell_type": "code",
   "execution_count": 11,
   "metadata": {},
   "outputs": [
    {
     "name": "stdout",
     "output_type": "stream",
     "text": [
      "Weighted Sum: 0.31\n",
      "Output: 0\n"
     ]
    }
   ],
   "source": [
    "def perceptron(x_input, w_weights, threshold):\n",
    "        \n",
    "    # multiply each input by its corresponding weight\n",
    "    weighted_sum = sum(x * w for x, w in zip(x_input, w_weights))\n",
    "    print(f\"Weighted Sum: {weighted_sum}\")\n",
    "    \n",
    "    # if the weighted_sum is greater than the threshold, the output is set to 1; otherwise, it's set to 0.\n",
    "    if weighted_sum > threshold:\n",
    "        output = 1\n",
    "    else:\n",
    "        output = 0\n",
    "    \n",
    "    return output\n",
    "\n",
    "# test\n",
    "x_input = [0.1, 0.5, 0.2]\n",
    "w_weights = [0.4, 0.3, 0.6]\n",
    "threshold = 0.5\n",
    "\n",
    "output = perceptron(x_input, w_weights, threshold)\n",
    "print(f\"Output: {output}\")\n"
   ]
  },
  {
   "cell_type": "markdown",
   "metadata": {},
   "source": [
    "The provided test case will output the weighted sum and use it to compute whether the output is 0 or 1 based on the given threshold. The expected output is 0 since the weighted sum 0.31 is less than the threshold of 0.5."
   ]
  }
 ],
 "metadata": {
  "kernelspec": {
   "display_name": "Python 3",
   "language": "python",
   "name": "python3"
  },
  "language_info": {
   "codemirror_mode": {
    "name": "ipython",
    "version": 3
   },
   "file_extension": ".py",
   "mimetype": "text/x-python",
   "name": "python",
   "nbconvert_exporter": "python",
   "pygments_lexer": "ipython3",
   "version": "3.11.9"
  }
 },
 "nbformat": 4,
 "nbformat_minor": 2
}
